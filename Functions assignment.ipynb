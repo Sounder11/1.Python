{
 "cells": [
  {
   "cell_type": "code",
   "execution_count": 1,
   "metadata": {},
   "outputs": [],
   "source": [
    "def subfields():\n",
    "    Lists=[\"sub-fields in AI are:\",\"   \",\"Machine Learning\",\"Neural Networks\",\"vision\",\"Robotics\",\"speech Processing\",\"Netural Langauage processing\"]\n",
    "    for AI in Lists:\n",
    "        print(AI)"
   ]
  },
  {
   "cell_type": "code",
   "execution_count": 2,
   "metadata": {},
   "outputs": [
    {
     "name": "stdout",
     "output_type": "stream",
     "text": [
      "sub-fields in AI are:\n",
      "   \n",
      "Machine Learning\n",
      "Neural Networks\n",
      "vision\n",
      "Robotics\n",
      "speech Processing\n",
      "Netural Langauage processing\n"
     ]
    }
   ],
   "source": [
    "subfields()"
   ]
  },
  {
   "cell_type": "code",
   "execution_count": null,
   "metadata": {},
   "outputs": [],
   "source": [
    "def Oddeven():\n",
    "    var=int(input(\"Enter the number:\"))\n",
    "    if(var%2==0):\n",
    "        print(var,\" is even number\")\n",
    "    else:\n",
    "        print(var,\" is odd number\")"
   ]
  },
  {
   "cell_type": "code",
   "execution_count": null,
   "metadata": {},
   "outputs": [],
   "source": [
    "Oddeven()"
   ]
  },
  {
   "cell_type": "code",
   "execution_count": null,
   "metadata": {},
   "outputs": [],
   "source": [
    "def Elegible():\n",
    "    A=(\"male\")\n",
    "    B=(\"female\")\n",
    "    data1=input(\"Your Gender:\")\n",
    "    if(data1==A):\n",
    "        age=int(input(\"Enter your age:\"))\n",
    "        if(age>22):\n",
    "            print(\"Elegible\")\n",
    "        else:\n",
    "            print(\"Not Elegible\")\n",
    "    elif(data1==B):\n",
    "        Age1=int(input(\"Enter your age:\"))\n",
    "        if(Age1>18):\n",
    "            print(\"Elegible\")\n",
    "        else:\n",
    "            print(\"Not Elegible\")"
   ]
  },
  {
   "cell_type": "code",
   "execution_count": null,
   "metadata": {},
   "outputs": [],
   "source": [
    "Elegible()"
   ]
  },
  {
   "cell_type": "code",
   "execution_count": 18,
   "metadata": {},
   "outputs": [],
   "source": [
    "def percentage():\n",
    "    Lists=(\"subject1=23\",\"subject2=45\",\"subject3=34\",\"subject4=23\",\"subject5=23\")\n",
    "    for add in Lists:\n",
    "        print(add)\n",
    "    subject1=23\n",
    "    subject2=45\n",
    "    subject3=34\n",
    "    subject4=23\n",
    "    subject5=23\n",
    "    total=(subject1+subject2+subject3+subject4+subject5)\n",
    "    print(\"Total=\",total)\n",
    "    percent=(total/500*100)\n",
    "    print(\"percent=\",percent)\n",
    "    "
   ]
  },
  {
   "cell_type": "code",
   "execution_count": 19,
   "metadata": {},
   "outputs": [
    {
     "name": "stdout",
     "output_type": "stream",
     "text": [
      "subject1=23\n",
      "subject2=45\n",
      "subject3=34\n",
      "subject4=23\n",
      "subject5=23\n",
      "Total= 148\n",
      "percent= 29.599999999999998\n"
     ]
    }
   ],
   "source": [
    "percentage()"
   ]
  },
  {
   "cell_type": "code",
   "execution_count": 30,
   "metadata": {},
   "outputs": [],
   "source": [
    "def triangle():\n",
    "    data1=int(input(\"Height:\"))\n",
    "    data2=int(input(\"Breadth:\"))\n",
    "    Area_of_formula=(data1*data2)/2\n",
    "    print(\"Area formula:(Height*Breadth)/2\")\n",
    "    print(\"Area of triangle:\",Area_of_formula)\n",
    "    data3=int(input(\"Height1:\"))\n",
    "    data4=int(input(\"Height2:\"))\n",
    "    data5=int(input(\"Breadth:\"))\n",
    "    print(\"perimeter formula:Height1+Height2+Breadth\")\n",
    "    perimeter=(data3+data4+data5)\n",
    "    print(\"perimeter of triangle:\",perimeter)"
   ]
  },
  {
   "cell_type": "code",
   "execution_count": 32,
   "metadata": {},
   "outputs": [
    {
     "name": "stdout",
     "output_type": "stream",
     "text": [
      "Height:3\n",
      "Breadth:4\n",
      "Area formula:(Height*Breadth)/2\n",
      "Area of triangle: 6.0\n",
      "Height1:3\n",
      "Height2:4\n",
      "Breadth:45\n",
      "perimeter formula:Height1+Height2+Breadth\n",
      "perimeter of triangle: 52\n"
     ]
    }
   ],
   "source": [
    "triangle()"
   ]
  }
 ],
 "metadata": {
  "kernelspec": {
   "display_name": "Python 3",
   "language": "python",
   "name": "python3"
  },
  "language_info": {
   "codemirror_mode": {
    "name": "ipython",
    "version": 3
   },
   "file_extension": ".py",
   "mimetype": "text/x-python",
   "name": "python",
   "nbconvert_exporter": "python",
   "pygments_lexer": "ipython3",
   "version": "3.7.4"
  }
 },
 "nbformat": 4,
 "nbformat_minor": 2
}
