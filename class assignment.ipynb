{
 "cells": [
  {
   "cell_type": "code",
   "execution_count": 16,
   "metadata": {},
   "outputs": [],
   "source": [
    "class functionass():\n",
    "    \n",
    "    def subfields():\n",
    "        Lists=[\"sub-fields in AI are:\",\"   \",\"Machine Learning\",\"Neural Networks\",\"vision\",\"Robotics\",\"speech Processing\",\"Netural Langauage processing\"]\n",
    "        for AI in Lists:\n",
    "            print(AI)\n",
    "        \n",
    "    def Oddeven():\n",
    "        var=int(input(\"Enter the number:\"))\n",
    "        if(var%2==0):\n",
    "            print(var,\" is even number\")\n",
    "        else:\n",
    "            print(var,\" is odd number\")\n",
    "            \n",
    "        \n",
    "    def Elegible():\n",
    "            A=(\"male\")\n",
    "            B=(\"female\")\n",
    "            data1=input(\"Your Gender:\")\n",
    "            if(data1==A):\n",
    "                    age=int(input(\"Enter your age:\"))\n",
    "                    if(age>22):\n",
    "                            print(\"Elegible\")\n",
    "                    else:\n",
    "                            print(\"Not Elegible\")\n",
    "            elif(data1==B):\n",
    "                    Age1=int(input(\"Enter your age:\"))\n",
    "                    if(Age1>18):\n",
    "                            print(\"Elegible\")\n",
    "                    else:\n",
    "                            print(\"Not Elegible\")\n",
    "            \n",
    "    def percentage():\n",
    "        Lists1=(\"subject1=23\",\"subject2=45\",\"subject3=34\",\"subject4=23\",\"subject5=23\")\n",
    "        for add in Lists1:\n",
    "            print(add)\n",
    "            subject1=23\n",
    "            subject2=45\n",
    "            subject3=34\n",
    "            subject4=23\n",
    "            subject5=23\n",
    "            total=(subject1+subject2+subject3+subject4+subject5)\n",
    "            print(\"Total=\",total)\n",
    "            percent=(total/500*100)\n",
    "            print(\"percent=\",percent)\n",
    "    \n",
    "    def triangle():\n",
    "            data1=int(input(\"Height:\"))\n",
    "            data2=int(input(\"Breadth:\"))\n",
    "            Area_of_formula=(data1*data2)/2\n",
    "            print(\"Area formula:(Height*Breadth)/2\")\n",
    "            print(\"Area of triangle:\",Area_of_formula)\n",
    "            data3=int(input(\"Height1:\"))\n",
    "            data4=int(input(\"Height2:\"))\n",
    "            data5=int(input(\"Breadth:\"))\n",
    "            print(\"perimeter formula:Height1+Height2+Breadth\")\n",
    "            perimeter=(data3+data4+data5)\n",
    "            print(\"perimeter of triangle:\",perimeter)"
   ]
  },
  {
   "cell_type": "code",
   "execution_count": 5,
   "metadata": {},
   "outputs": [
    {
     "name": "stdout",
     "output_type": "stream",
     "text": [
      "sub-fields in AI are:\n",
      "   \n",
      "Machine Learning\n",
      "Neural Networks\n",
      "vision\n",
      "Robotics\n",
      "speech Processing\n",
      "Netural Langauage processing\n"
     ]
    }
   ],
   "source": [
    "functionass.subfields()"
   ]
  },
  {
   "cell_type": "code",
   "execution_count": 6,
   "metadata": {},
   "outputs": [
    {
     "name": "stdout",
     "output_type": "stream",
     "text": [
      "Enter the number:5\n",
      "5  is odd number\n"
     ]
    }
   ],
   "source": [
    "functionass.Oddeven()"
   ]
  },
  {
   "cell_type": "code",
   "execution_count": 7,
   "metadata": {},
   "outputs": [
    {
     "name": "stdout",
     "output_type": "stream",
     "text": [
      "Your Gender:male\n",
      "Enter your age:56\n",
      "Elegible\n"
     ]
    }
   ],
   "source": [
    "functionass.Elegible()"
   ]
  },
  {
   "cell_type": "code",
   "execution_count": 8,
   "metadata": {},
   "outputs": [
    {
     "name": "stdout",
     "output_type": "stream",
     "text": [
      "subject1=23\n",
      "Total= 148\n",
      "percent= 29.599999999999998\n",
      "subject2=45\n",
      "Total= 148\n",
      "percent= 29.599999999999998\n",
      "subject3=34\n",
      "Total= 148\n",
      "percent= 29.599999999999998\n",
      "subject4=23\n",
      "Total= 148\n",
      "percent= 29.599999999999998\n",
      "subject5=23\n",
      "Total= 148\n",
      "percent= 29.599999999999998\n"
     ]
    }
   ],
   "source": [
    "functionass.percentage()"
   ]
  },
  {
   "cell_type": "code",
   "execution_count": 17,
   "metadata": {},
   "outputs": [
    {
     "name": "stdout",
     "output_type": "stream",
     "text": [
      "Height:6\n",
      "Breadth:7\n",
      "Area formula:(Height*Breadth)/2\n",
      "Area of triangle: 21.0\n",
      "Height1:2\n",
      "Height2:3\n",
      "Breadth:6\n",
      "perimeter formula:Height1+Height2+Breadth\n",
      "perimeter of triangle: 11\n"
     ]
    }
   ],
   "source": [
    "functionass.triangle()"
   ]
  },
  {
   "cell_type": "code",
   "execution_count": null,
   "metadata": {},
   "outputs": [],
   "source": []
  }
 ],
 "metadata": {
  "kernelspec": {
   "display_name": "Python 3",
   "language": "python",
   "name": "python3"
  }
 },
 "nbformat": 4,
 "nbformat_minor": 2
}
